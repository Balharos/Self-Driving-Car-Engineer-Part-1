{
 "cells": [
  {
   "cell_type": "markdown",
   "metadata": {},
   "source": [
    "# Self-driving car Nanodegree - Term 1\n",
    "\n",
    "## Project 3: **Advanced Lane Lines** \n",
    "***\n",
    "In this project, We attempted to identify the lane boundaries in a video.\n",
    "\n",
    "---\n",
    "#### Importing packages"
   ]
  },
  {
   "cell_type": "code",
   "execution_count": 6,
   "metadata": {
    "collapsed": true
   },
   "outputs": [],
   "source": [
    "import numpy as np\n",
    "import cv2\n",
    "import matplotlib.pyplot as plt\n",
    "import matplotlib.image as mpimg\n",
    "%matplotlib inline\n",
    "import pickle\n",
    "import numpy as np\n",
    "import glob"
   ]
  },
  {
   "cell_type": "markdown",
   "metadata": {},
   "source": [
    "#### Helper functions\n",
    "---\n",
    "##### Apply a distortion correction to raw images."
   ]
  },
  {
   "cell_type": "code",
   "execution_count": null,
   "metadata": {
    "collapsed": true
   },
   "outputs": [],
   "source": [
    "def grayscale(image, order='BGR'):\n",
    "    if order == 'BGR':\n",
    "        gray = cv2.cvtColor(img, cv2.COLOR_BGR2GRAY)\n",
    "    elif order == 'RGB':\n",
    "        gray = cv2.cvtColor(img, cv2.COLOR_RGB2GRAY)\n",
    "    return gray\n",
    "\n",
    "def finding_corner(images, obj_points , img_points):\n",
    "    for idx, fname in enumerte(images):\n",
    "        img = cv2.imread(fname)\n",
    "        gray = grayscale(img, cv2.COLOR_BGR2GRAY)\n",
    "        # using 9x6 instead of 8x6\n",
    "        ret, corners = cv2.findChessboardCorners(gray,(9,6), None)\n",
    "        if ret == True:\n",
    "            obj_points.append(objp)\n",
    "            img_points.append(corners)\n",
    "    return obj_points, img_points\n",
    "\n",
    "def undistort_image(image, obj_points, img_points):           \n",
    "    img = cv2.imread(image)\n",
    "    img_size = (img.shape[1],img.shape[0])\n",
    "    ret, mtx, dist, rvecs, tvecs = cv2.calibrateCamera(obj_points, img_points,img_size, None, None)\n",
    "    undistorted = cv2.undistort(img, mtx, dist, None, mtx)\n",
    "    return undistorted"
   ]
  },
  {
   "cell_type": "markdown",
   "metadata": {},
   "source": [
    "---\n",
    "##### Use color transforms, gradients, etc., to create a thresholded binary image."
   ]
  },
  {
   "cell_type": "code",
   "execution_count": 7,
   "metadata": {
    "collapsed": true
   },
   "outputs": [],
   "source": [
    "def abs_sobel_thresh(img, orient='x', thresh_min=0, thresh_max=255):\n",
    "    if orient == 'x':\n",
    "        abs_sobel = np.absolute(cv2.Sobel(gray, cv2.CV_64F, 1, 0))\n",
    "    if orient == 'y':\n",
    "        abs_sobel = np.absolute(cv2.Sobel(gray, cv2.CV_64F, 0, 1))\n",
    "    scaled_sobel = np.uint8(255*abs_sobel/np.max(abs_sobel))\n",
    "    binary_output = np.zeros_like(scaled_sobel)\n",
    "    binary_output[(scaled_sobel >= thresh_min) & (scaled_sobel <= thresh_max)] = 1\n",
    "    return binary_output\n",
    "\n",
    "def magnitude_threshold(img, sobel_kernel=3, mag_thresh=(0, 255)): \n",
    "    sobelx = cv2.Sobel(gray, cv2.CV_64F, 1, 0, ksize=sobel_kernel)\n",
    "    sobely = cv2.Sobel(gray, cv2.CV_64F, 0, 1, ksize=sobel_kernel)\n",
    "    gradmag = np.sqrt(sobelx**2 + sobely**2)\n",
    "    scale_factor = np.max(gradmag)/255 \n",
    "    gradmag = (gradmag/scale_factor).astype(np.uint8) \n",
    "    binary_output = np.zeros_like(gradmag)\n",
    "    binary_output[(gradmag >= mag_thresh[0]) & (gradmag <= mag_thresh[1])] = 1\n",
    "    return binary_output\n",
    "\n",
    "def direction_threshold(img, sobel_kernel=3, thresh=(0, np.pi/2)):\n",
    "    sobelx = cv2.Sobel(gray, cv2.CV_64F, 1, 0, ksize=sobel_kernel)\n",
    "    sobely = cv2.Sobel(grApply a perspective transform to rectify binary image (\"birds-eye view\").ay, cv2.CV_64F, 0, 1, ksize=sobel_kernel)\n",
    "    absgraddir = np.arctan2(np.absolute(sobely), np.absolute(sobelx))\n",
    "    binary_output =  np.zeros_like(absgraddir)\n",
    "    binary_output[(absgraddir >= thresh[0]) & (absgraddir <= thresh[1])] = 1\n",
    "    return binary_output   "
   ]
  },
  {
   "cell_type": "markdown",
   "metadata": {},
   "source": [
    "---\n",
    "##### Apply a perspective transform to rectify binary image (\"birds-eye view\")."
   ]
  },
  {
   "cell_type": "code",
   "execution_count": 8,
   "metadata": {
    "collapsed": true
   },
   "outputs": [],
   "source": [
    "def corners_unwarp(image, corners, offset):\n",
    "    img_size = (image.shape[1], imageshape[0])\n",
    "    src = np.float32([corners[0], corners[nx-1], corners[-1], corners[-nx]])\n",
    "    dst = np.float32([[offset, offset], [img_size[0]-offset, offset], \n",
    "                                 [img_size[0]-offset, img_size[1]-offset], \n",
    "                                 [offset, img_size[1]-offset]])\n",
    "    M = cv2.getPerspectiveTransform(src, dst)\n",
    "    warped = cv2.warpPerspective(undist, M, img_size)\n",
    "    return warped, M"
   ]
  },
  {
   "cell_type": "code",
   "execution_count": 9,
   "metadata": {
    "collapsed": true
   },
   "outputs": [],
   "source": [
    "# Define a function that thresholds the S-channel of HLS\n",
    "def hls_select(img, thresh=(0, 255)):\n",
    "    hls = cv2.cvtColor(img, cv2.COLOR_RGB2HLS)\n",
    "    s_channel = hls[:,:,2]\n",
    "    binary_output = np.zeros_like(s_channel)\n",
    "    binary_output[(s_channel > thresh[0]) & (s_channel <= thresh[1])] = 1\n",
    "    return binary_output\n"
   ]
  },
  {
   "cell_type": "markdown",
   "metadata": {},
   "source": [
    "---\n",
    "#### Main Function"
   ]
  },
  {
   "cell_type": "code",
   "execution_count": null,
   "metadata": {
    "collapsed": true
   },
   "outputs": [],
   "source": [
    "'''Directory'''\n",
    "TEST_IMG_FOLDER = '../test_images/'\n",
    "STRAIGHTLINE_IMG = '../test_images/straight_lines2.jpg'\n",
    "CAMERA_IMG_FOLDER = '../camera_cal/'\n",
    "OUT_IMG_FOLDER = '../output_images/'\n",
    "\n",
    "'''Define Parameters'''\n",
    "KERNEL_SIZE = 3\n",
    "OFFSET = \n",
    "NX = 9\n",
    "NY = 6\n",
    "\n",
    "#Prepare obj poinrts\n",
    "objp = np.zeros((NX * NY, 3), np.float32)\n",
    "objp[:,:2] = np.mgrid[0:NX, 0:NY].T.reshape(-1,2)\n",
    "obj_points = [] #3d points in real world space\n",
    "img_points = [] #2d points in image points\n",
    "\n",
    "images = glob.glob(CAMERA_IMG_FOLDER + '.jpg')\n",
    "finding_corner(images, obj_points , img_points):\n",
    "    \n",
    "# Step through the list and search for chessboard corners\n",
    "for fname in images:\n",
    "    img = cv2.imread(fname)\n",
    "    gray_img = grayscale(img, order ='BRG'\n",
    "    undistort = cal_undistort(gray_img, objp, img_points)        \n",
    "    gradx = abs_sobel_thresh(undistort, orient='x', sobel_kernel= KERNEL_SIZE, thresh=(0, 255))\n",
    "    grady = abs_sobel_thresh(undistort, orient='y', sobel_kernel= KERNEL_SIZE, thresh=(0, 255))\n",
    "    mag_binary = mag_thresh(undistort, sobel_kernel= KERNEL_SIZE, mag_thresh=(0, 255))\n",
    "    dir_binary = dir_threshold(undistort, sobel_kernel= KERNEL_SIZE, thresh=(0, np.pi/2))\n",
    "    \n",
    "    combined = np.zeros_like(dir_binary)\n",
    "    combined[((gradx == 1) & (grady == 1)) | ((mag_binary == 1) & (dir_binary == 1))] = 1\n",
    "        # If found, add object points, image points\n",
    "    if ret == True:\n",
    "        objpoints.append(objp)\n",
    "        imgpoints.append(corners)\n",
    "\n",
    "        # Draw and display the corners\n",
    "        img = cv2.drawChessboardCorners(img, (9,6), corners, ret)\n",
    "        cv2.imshow('img',img)\n",
    "        cv2.waitKey(500)\n",
    "\n",
    "cv2.destroyAllWindows()\n",
    "\n",
    "\n",
    "# Save the camera calibration result for later use (we won't worry about rvecs / tvecs)\n",
    "dist_pickle = {}\n",
    "dist_pickle[\"mtx\"] = mtx\n",
    "dist_pickle[\"dist\"] = dist\n",
    "pickle.dump( dist_pickle, open( \"calibration_wide/wide_dist_pickle.p\", \"wb\" ) )\n",
    "#dst = cv2.cvtColor(dst, cv2.COLOR_BGR2RGB)\n",
    "# Visualize undistortion\n",
    "f, (ax1, ax2) = plt.subplots(1, 2, figsize=(20,10))\n",
    "f.tight_layout()\n",
    "\n",
    "ax1.imshow(img)\n",
    "ax1.set_title('Original Image', fontsize=30)\n",
    "ax2.imshow(dst)\n",
    "ax2.set_title('Undistorted Image', fontsize=30)\n",
    "plt.subplots_adjust(left=0., right=1, top=0.9, bottom=0.)\n",
    "f, (ax1, ax2) = plt.subplots(1, 2, figsize=(24, 9))\n",
    "f.tight_layout()"
   ]
  }
 ],
 "metadata": {
  "kernelspec": {
   "display_name": "Python 3",
   "language": "python",
   "name": "python3"
  },
  "language_info": {
   "codemirror_mode": {
    "name": "ipython",
    "version": 3
   },
   "file_extension": ".py",
   "mimetype": "text/x-python",
   "name": "python",
   "nbconvert_exporter": "python",
   "pygments_lexer": "ipython3",
   "version": "3.5.2"
  },
  "widgets": {
   "state": {},
   "version": "1.1.2"
  }
 },
 "nbformat": 4,
 "nbformat_minor": 2
}
