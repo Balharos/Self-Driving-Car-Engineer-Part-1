{
 "cells": [
  {
   "cell_type": "markdown",
   "metadata": {},
   "source": [
    "# Self-driving car Nanodegree - Term 1\n",
    "## Project 1: **Build a Traffic Sign Recognition Classifier**\n",
    "***\n",
    "In this project, we will use deep neural networks and convolutional neural networks to classify traffic signs. We will train and validate a model so it can classify traffic sign images using the German Traffic Sign Dataset as sample dataset.\n",
    "\n",
    "Author : [Vu Tran](https://github.com/tranlyvu)\n",
    "\n",
    "- [Github repo](https://github.com/tranlyvu/autonomous-vehicle-projects/tree/master/Traffic%20Sign%20Classifier)\n",
    "- [Notebook](https://github.com/tranlyvu/autonomous-vehicle-projects/blob/master/Traffic%20Sign%20Classifier/notebook/Traffic_Sign_Classifier.ipynb)\n",
    "- [Python code](https://github.com/tranlyvu/autonomous-vehicle-projects/blob/master/Traffic%20Sign%20Classifier/src/second_attempt.py)"
   ]
  },
  {
   "cell_type": "markdown",
   "metadata": {},
   "source": [
    "### Load and Visualize The DataSet\n",
    "\n",
    "#### Sample Dataset Information\n",
    "\n",
    "The [German Traffic Sign Dataset](http://benchmark.ini.rub.de/?section=gtsrb&subsection=dataset) consists of 43 different traffic signs with each image having 32×32 px size. This dataset has 39,209 images as training data (Using this number of an image we have to train a neural network) and 12,630 images as a test data. Each image is a photo of one of the 43 class of traffic sign\n",
    "\n",
    "Specifically , we will use the following [pickled dataset](https://d17h27t6h515a5.cloudfront.net/topher/2017/February/5898cd6f_traffic-signs-data/traffic-signs-data.zip) provided by Udacity in which the images were resized to 32x32. The pickled data is a dictionary with 4 key/value pairs:\n",
    "\n",
    "- `'features'` is a 4D array containing raw pixel data of the traffic sign images, (num examples, width, height, channels).\n",
    "- `'labels'` is a 1D array containing the label/class id of the traffic sign. The file `signnames.csv` contains id -> name mappings for each id.\n",
    "- `'sizes'` is a list containing tuples, (width, height) representing the original width and height the image.\n",
    "- `'coords'` is a list containing tuples, (x1, y1, x2, y2) representing coordinates of a bounding box around the sign in the image. **THESE COORDINATES ASSUME THE ORIGINAL IMAGE. THE PICKLED DATA CONTAINS RESIZED VERSIONS (32 by 32) OF THESE IMAGES**"
   ]
  },
  {
   "cell_type": "markdown",
   "metadata": {},
   "source": [
    "#### Importing packages"
   ]
  },
  {
   "cell_type": "code",
   "execution_count": 1,
   "metadata": {
    "collapsed": true
   },
   "outputs": [],
   "source": [
    "# Load pickled data\n",
    "import pickle\n",
    "import pandas as pd\n",
    "import numpy as np\n",
    "import matplotlib.pyplot as plt\n",
    "import random\n",
    "# Visualizations will be shown in the notebook.\n",
    "%matplotlib inline\n",
    "import cv2\n",
    "import glob\n",
    "import tensorflow as tf\n",
    "from tensorflow.contrib.layers import flatten\n",
    "from tensorflow.contrib.layers import flatten\n",
    "from sklearn.utils import shuffle"
   ]
  },
  {
   "cell_type": "markdown",
   "metadata": {},
   "source": [
    "#### Loading data"
   ]
  },
  {
   "cell_type": "code",
   "execution_count": 2,
   "metadata": {
    "scrolled": true
   },
   "outputs": [
    {
     "name": "stdout",
     "output_type": "stream",
     "text": [
      "Original training dataset shape is: (34799, 32, 32, 3)\n",
      "Original validation dataset shape is:  (4410, 32, 32, 3)\n",
      "Original test dataset shape is:  (12630, 32, 32, 3)\n",
      "Number of training examples = 34799\n",
      "Number of validation examples = 4410\n",
      "Number of test examples = 12630\n",
      "Image data shape = (32, 32, 3)\n"
     ]
    }
   ],
   "source": [
    "def loaded_pickled_data(file):\n",
    "    with open(file, mode='rb') as f:\n",
    "        output = pickle.load(f)      \n",
    "    return output\n",
    "\n",
    "training_file = '../../../train.p'\n",
    "validation_file= '../../../valid.p'\n",
    "testing_file = '../../../test.p'\n",
    "\n",
    "train = loaded_pickled_data(training_file)\n",
    "valid = loaded_pickled_data(validation_file)\n",
    "test = loaded_pickled_data(testing_file)\n",
    "    \n",
    "X_train_original, y_train_original = train['features'], train['labels']\n",
    "X_valid_original, y_valid_original = valid['features'], valid['labels']\n",
    "X_test_original, y_test_original = test['features'], test['labels']\n",
    "\n",
    "assert(len(X_train_original) == len(y_train_original))\n",
    "assert(len(X_valid_original) == len(y_valid_original))\n",
    "assert(len(X_test_original) == len(y_test_original))\n",
    "\n",
    "\n",
    "# number of training examples\n",
    "n_train = len(X_train_original)\n",
    "\n",
    "# Number of validation examples\n",
    "n_validation = len(X_valid_original)\n",
    "\n",
    "# Number of testing examples.\n",
    "n_test = len(X_test_original)\n",
    "\n",
    "# What's the shape of an traffic sign image?\n",
    "image_shape = X_train_original.shape[1:]\n",
    "\n",
    "\n",
    "# there are few ways to print tuple\n",
    "print('Original training dataset shape is: {}'.format(X_train_original.shape))\n",
    "print('Original validation dataset shape is: ', X_valid_original.shape)\n",
    "print('Original test dataset shape is: ', X_test_original.shape)\n",
    "print(\"Number of training examples =\", n_train)\n",
    "print(\"Number of validation examples =\", n_validation)\n",
    "print(\"Number of test examples =\", n_test)\n",
    "print(\"Image data shape =\", image_shape)"
   ]
  },
  {
   "cell_type": "markdown",
   "metadata": {},
   "source": [
    "#### Include an exploratory visualization of the dataset"
   ]
  },
  {
   "cell_type": "code",
   "execution_count": 3,
   "metadata": {},
   "outputs": [
    {
     "name": "stdout",
     "output_type": "stream",
     "text": [
      "Number of classes = 43\n",
      "Class 0: Speed limit (20km/h)                               180 samples\n",
      "Class 1: Speed limit (30km/h)                               1980 samples\n",
      "Class 2: Speed limit (50km/h)                               2010 samples\n",
      "Class 3: Speed limit (60km/h)                               1260 samples\n",
      "Class 4: Speed limit (70km/h)                               1770 samples\n",
      "Class 5: Speed limit (80km/h)                               1650 samples\n",
      "Class 6: End of speed limit (80km/h)                        360 samples\n",
      "Class 7: Speed limit (100km/h)                              1290 samples\n",
      "Class 8: Speed limit (120km/h)                              1260 samples\n",
      "Class 9: No passing                                         1320 samples\n",
      "Class 10: No passing for vehicles over 3.5 metric tons       1800 samples\n",
      "Class 11: Right-of-way at the next intersection              1170 samples\n",
      "Class 12: Priority road                                      1890 samples\n",
      "Class 13: Yield                                              1920 samples\n",
      "Class 14: Stop                                               690 samples\n",
      "Class 15: No vehicles                                        540 samples\n",
      "Class 16: Vehicles over 3.5 metric tons prohibited           360 samples\n",
      "Class 17: No entry                                           990 samples\n",
      "Class 18: General caution                                    1080 samples\n",
      "Class 19: Dangerous curve to the left                        180 samples\n",
      "Class 20: Dangerous curve to the right                       300 samples\n",
      "Class 21: Double curve                                       270 samples\n",
      "Class 22: Bumpy road                                         330 samples\n",
      "Class 23: Slippery road                                      450 samples\n",
      "Class 24: Road narrows on the right                          240 samples\n",
      "Class 25: Road work                                          1350 samples\n",
      "Class 26: Traffic signals                                    540 samples\n",
      "Class 27: Pedestrians                                        210 samples\n",
      "Class 28: Children crossing                                  480 samples\n",
      "Class 29: Bicycles crossing                                  240 samples\n",
      "Class 30: Beware of ice/snow                                 390 samples\n",
      "Class 31: Wild animals crossing                              690 samples\n",
      "Class 32: End of all speed and passing limits                210 samples\n",
      "Class 33: Turn right ahead                                   599 samples\n",
      "Class 34: Turn left ahead                                    360 samples\n",
      "Class 35: Ahead only                                         1080 samples\n",
      "Class 36: Go straight or right                               330 samples\n",
      "Class 37: Go straight or left                                180 samples\n",
      "Class 38: Keep right                                         1860 samples\n",
      "Class 39: Keep left                                          270 samples\n",
      "Class 40: Roundabout mandatory                               300 samples\n",
      "Class 41: End of no passing                                  210 samples\n",
      "Class 42: End of no passing by vehicles over 3.5 metric tons 210 samples\n"
     ]
    },
    {
     "data": {
      "image/png": "[encoded data removed]",
      "text/plain": [
       "<matplotlib.figure.Figure at 0x1ecb277d978>"
      ]
     },
     "metadata": {},
     "output_type": "display_data"
    }
   ],
   "source": [
    "\"\"\"plotting 10 randome traffic sign images\"\"\"\n",
    "def plot_10_random_images(features, labels):\n",
    "    fig, axes = plt.subplots(2, 5, figsize=(13, 6))\n",
    "    fig.subplots_adjust(left=None, right=None, hspace = .02, wspace=0.1)\n",
    "    for i in range(2):\n",
    "        for j in range(5):\n",
    "            randomindex = random.randint(0, len(features) - 1) \n",
    "            axes[i,j].axis('off')\n",
    "            axes[i,j].imshow(features[randomindex])\n",
    "            axes[i,j].set_title(labels[randomindex])\n",
    "\n",
    "            \n",
    "# How many unique classes/labels there are in the dataset.\n",
    "classes = pd.read_csv('../signnames.csv') \n",
    "print(\"Number of classes =\", len(classes))\n",
    "\n",
    "sign_names = classes.values[:,1]\n",
    "# class_indices: position where class appear, class_counts: number of count of class\n",
    "sign_classes, class_indices, class_counts = np.unique(y_train_original, return_index = True, return_counts = True)\n",
    "# longest name of sign names\n",
    "longest_sign_name = max(len(name) for name in sign_names)\n",
    "\n",
    "for c, c_index, c_count in zip(sign_classes, class_indices, class_counts):\n",
    "    print (\"Class %i: %-*s %s samples\" % (c, longest_sign_name, sign_names[c], str(c_count)))\n",
    "      \n",
    "plot_10_random_images(X_train_original, y_train_original)           "
   ]
  },
  {
   "cell_type": "markdown",
   "metadata": {},
   "source": [
    "----\n",
    "\n",
    "### Design and Train Classifier Model\n",
    "\n",
    "#### Defining data pre-processing and model training functions"
   ]
  },
  {
   "cell_type": "code",
   "execution_count": 12,
   "metadata": {
    "collapsed": true
   },
   "outputs": [],
   "source": [
    "def grayscale(input_image):\n",
    "    output = []\n",
    "    for i in range(len(input_image)): \n",
    "        img = cv2.cvtColor(input_image[i], cv2.COLOR_RGB2GRAY)\n",
    "        output.append(img) \n",
    "    return output\n",
    "\n",
    "def normalization(input_image):\n",
    "    \"\"\"normalization\n",
    "      Pre-defined interval [-1,1]\n",
    "      from the forum :https://discussions.udacity.com/t/accuracy-is-not-going-over-75-80/314938/22 \n",
    "      some said that using the decimal 128.0 makes huge diffference\n",
    "    \"\"\"\n",
    "    output = []\n",
    "    for i in range(len(input_image)): \n",
    "        img = np.array((input_image[i] - 128.0) / (128.0), dtype=np.float32)\n",
    "        output.append(img) \n",
    "    return output\n",
    "\n",
    "def get_weights(input_shape):\n",
    "    return tf.Variable(tf.truncated_normal(shape = input_shape, mean = 0.0, stddev = 0.1))\n",
    "\n",
    "def get_biases(length):\n",
    "     return tf.Variable(tf.zeros(length))\n",
    "\n",
    "#NOTE: number of filter is output channel  \n",
    "def convolution_layer(input_image,\n",
    "                      filter_size,\n",
    "                      input_channel, \n",
    "                      number_of_filters,\n",
    "                      padding_choice = 'VALID'):\n",
    "\n",
    "    shape = [filter_size, filter_size, input_channel, number_of_filters]\n",
    "    weights = get_weights(input_shape = shape)\n",
    "    biases = get_biases(length = number_of_filters) \n",
    "    layer = tf.nn.conv2d(input = input_image, \n",
    "                         filter = weights, \n",
    "                         strides = [1, 1, 1, 1], \n",
    "                         padding = padding_choice) + biases\n",
    "    return layer\n",
    "\n",
    "\n",
    "def activation_relu(input_layer):\n",
    "    return tf.nn.relu(input_layer)\n",
    "\n",
    "def max_spooling(input_layer, padding_choice):\n",
    "    return tf.nn.max_pool(value = input_layer,\n",
    "                          ksize = [1, 2, 2, 1],\n",
    "                          strides = [1, 2, 2, 1],\n",
    "                         padding= padding_choice)\n",
    "\n",
    "def flatten_layer(input_layer):        \n",
    "    return flatten(input_layer)\n",
    "\n",
    "def fully_connected_layer(input_layer,\n",
    "                          number_of_inputs,\n",
    "                          number_of_outputs):\n",
    "    \n",
    "    weights = get_weights(input_shape = [number_of_inputs, number_of_outputs])\n",
    "    biases = get_biases(length = number_of_outputs) \n",
    "    layer = tf.matmul(input_layer, weights) + biases\n",
    "    return layer\n",
    "\n",
    "def dropout_layer(layer, keep_prob):\n",
    "    layer = tf.nn.dropout(layer, keep_prob)\n",
    "    return layer"
   ]
  },
  {
   "cell_type": "markdown",
   "metadata": {},
   "source": [
    "#### [First attempt](https://github.com/tranlyvu/autonomous-vehicle-projects/blob/master/Traffic%20Sign%20Classifier/src/first_attempt.py)\n",
    "\n",
    "My first attempt was to try the famous Lenet-5 model:\n",
    "\n",
    "![lenet 5](../../img/lenet.png)\n",
    "\n",
    "\n",
    "1. pre-processing pipeline\n",
    "    - Graysclale \n",
    "    - Normalization\n",
    "2. Model design:\n",
    "    - The original Lenet-5 model\n",
    "    \n",
    "|Layer   |type    |Input   |output  |\n",
    "|--------|--------|--------|--------|\n",
    "|1       |conv    |32x32x1 |28x28x6 |\n",
    "|        |relu    |        |        |\n",
    "|        |max_pool|28x28x6 |14x14x6 |\n",
    "|2       |conv    |14x14x6 |10x10x16|\n",
    "|        |relu    |        |        |\n",
    "|        |max_pool|10x10x16|5x5x16  |\n",
    "|        |flatten |5x5x16  |400     |\n",
    "|3       |linear  |400     |120     |\n",
    "|        |relu    |        |        |\n",
    "|4       |linear  |120     |84      |\n",
    "|        |relu    |        |        |\n",
    "|5       |linear  |84      |43      |"
   ]
  },
  {
   "cell_type": "markdown",
   "metadata": {},
   "source": [
    "#### Second attempt\n",
    "\n",
    "First attempt only gave me 86% vadilation accuracy with 28 epochs. Validation loss is way higher than training loss and they converge at different values. This is strong signal of overfitting.\n",
    "\n",
    "There are few techniques to battle overfitting:\n",
    "```\n",
    "- Increase training dataset\n",
    "- Regulazation, i.e dropout\n",
    "- Reduce the complexity of training model\n",
    "```    \n",
    "The conplexity of original Lener-5 is pretty simple, so I chose to apply dropout to every layers of the model\n",
    "\n",
    "Second attempt summary:\n",
    "```\n",
    "1. Pre-processing pipeline:\n",
    "    - Grayscale\n",
    "    - Normalization\n",
    "\n",
    "2a. Model design:\n",
    "    - Original Lenet-5 model with dopout of 0.5 to every layers\n",
    " \n",
    "After running for 300 epochs, my validation accuracy reached 89% and there is no signal of overfitting. I decided to increase the complexity of model to improve the accuracy.\n",
    "\n",
    "2b. Model re-design\n",
    "\n",
    "|Layer   |type    |Input   |output  |\n",
    "|--------|--------|--------|--------|\n",
    "|1       |conv    |32x32x1 |28x28x10|\n",
    "|        |relu    |        |        |\n",
    "|        |dropout |        |        |\n",
    "|2       |conv    |28x28x10|24x24x20|\n",
    "|        |relu    |        |        |\n",
    "|        |dropout |        |        |\n",
    "|3       |conv    |24x24x10|20x20x30|\n",
    "|        |relu    |        |        |\n",
    "|        |dropout |        |        |\n",
    "|4       |conv    |20x20x30|16x16x40|\n",
    "|        |relu    |        |        |\n",
    "|        |max_pool|16x16x40|8x8x40  |\n",
    "|        |dropout |        |        |\n",
    "|        |flatten |8x8x40  |2560    |\n",
    "|5       |linear  |2560    |1280    |\n",
    "|        |relu    |        |        |\n",
    "|6       |linear  |1280    |640     |\n",
    "|        |relu    |        |        |\n",
    "|7       |linear  |640     |320     |\n",
    "|        |relu    |        |        |\n",
    "|8       |linear  |320     |160     |\n",
    "|        |relu    |        |        |\n",
    "|9       |linear  |160     |80      |\n",
    "|        |relu    |        |        |\n",
    "|10      |linear  |80      |43      |\n",
    "\n",
    "```"
   ]
  },
  {
   "cell_type": "markdown",
   "metadata": {},
   "source": [
    "#### Model definition"
   ]
  },
  {
   "cell_type": "code",
   "execution_count": 28,
   "metadata": {},
   "outputs": [
    {
     "data": {
      "image/png": "[encoded data removed]",
      "text/plain": [
       "<matplotlib.figure.Figure at 0x1ecb2c6d0b8>"
      ]
     },
     "metadata": {},
     "output_type": "display_data"
    }
   ],
   "source": [
    "\"\"\"Pre-processing data\"\"\"\n",
    "def preprocess_data(input_image):\n",
    "    gray_image = grayscale(input_image)\n",
    "    output =  normalization(gray_image)\n",
    "    output = np.expand_dims(output, 3)\n",
    "    return gray_image\n",
    "\n",
    "X_train_final = preprocess_data(X_train_original) \n",
    "X_valid_final = preprocess_data(X_valid_original)\n",
    "\n",
    "plt.imshow(X_train_final[0], cmap='gray')\n",
    "plt.imsave('../preprocessed_img.jpg', X_train_final[0])\n",
    "\n",
    "\"\"\"Model design\"\"\"\n",
    "def Lenet_5_model(input_image):    \n",
    "    \n",
    "    # Layer 1: Convolutional. Input = 32x32x1. Output = 28x28x10.\n",
    "    conv1 = convolution_layer(input_image, 5, 1, 10, 'VALID')\n",
    "    conv1 = activation_relu(conv1)\n",
    "    \n",
    "    # Layer 2: Convolutional. Input = 28x28x10. Output = 24x24x20.\n",
    "    conv2 = convolution_layer(conv1, 5, 10, 20, 'VALID')\n",
    "    conv2 = activation_relu(conv2)\n",
    "    # drop-out\n",
    "    conv2 = dropout_layer(conv2, keep_prob)\n",
    "    \n",
    "    # Layer 3: Convolutional. Input = 24x24x20. Output = 20x20x30.\n",
    "    conv3 = convolution_layer(conv2, 5, 20, 30, 'VALID')\n",
    "    conv3 = activation_relu(conv3)\n",
    "    # drop-out\n",
    "    conv3 = dropout_layer(conv3, keep_prob)\n",
    "    \n",
    "    # Layer 4: Convolutional. Input = 20x20x30. Output = 16x16x40.   \n",
    "    conv4 = convolution_layer(conv3, 5, 30, 40, 'VALID')\n",
    "    conv4 = tf.nn.relu(conv4)\n",
    "    # max_pool: output = 8x8x40\n",
    "    conv4 = max_spooling(conv4, 'VALID')\n",
    "    # drop-out\n",
    "    conv4 = dropout_layer(conv4, keep_prob)\n",
    "\n",
    "    # Flatten. Input = 8x8x40. Output = 2560.\n",
    "    fc0   = flatten_layer(conv4)        \n",
    "    \n",
    "    # Layer 5: Fully Connected. Input = 2560. Output = 1280.\n",
    "    fc1 = fully_connected_layer(fc0, 2560, 1280)\n",
    "    fc1 = tf.nn.relu(fc1)\n",
    "\n",
    "    # Layer 6: Fully Connected. Input = 1280. Output = 640.\n",
    "    fc2 = fully_connected_layer(fc1, 1280, 640)\n",
    "    fc2 = tf.nn.relu(fc2)\n",
    "\n",
    "    # Layer 7: Fully Connected. Input = 640. Output = 320 \n",
    "    fc3 = fully_connected_layer(fc2, 640, 320)\n",
    "    fc3 = tf.nn.relu(fc3)\n",
    "    \n",
    "    # Layer 8: Fully Connected. Input = 320. Output = 160 \n",
    "    fc4 = fully_connected_layer(fc3, 320, 160)\n",
    "    fc4 = tf.nn.relu(fc4)\n",
    "    \n",
    "    # Layer 9: Fully Connected. Input = 160. Output = 80 \n",
    "    fc5 = fully_connected_layer(fc4, 160, 80)\n",
    "    fc5 = tf.nn.relu(fc5)\n",
    "    \n",
    "    # Layer 10: Fully Connected. Input = 80. Output = 43 \n",
    "    logits = fully_connected_layer(fc5, 80, 43)   \n",
    "    \n",
    "    return logits\n",
    "\n",
    "\"\"\"Evaluation function\"\"\"\n",
    "def evaluate(X_data, y_data, my_keep_prob):\n",
    "    num_examples = len(X_data)\n",
    "    total_accuracy = 0\n",
    "    total_loss = 0\n",
    "    sess = tf.get_default_session()\n",
    "    for offset in range(0, num_examples, BATCH_SIZE):\n",
    "        batch_x, batch_y = X_data[offset : offset + BATCH_SIZE], y_data[offset : offset + BATCH_SIZE]\n",
    "        loss, accuracy = sess.run([loss_operation, accuracy_operation], feed_dict={x: batch_x, \n",
    "                                                                                   y: batch_y, \n",
    "                                                                                   keep_prob: my_keep_prob})\n",
    "        total_accuracy += (accuracy * len(batch_x))\n",
    "        total_loss += (loss * len(batch_x))\n",
    "    return total_loss / num_examples, total_accuracy / num_examples "
   ]
  },
  {
   "cell_type": "markdown",
   "metadata": {},
   "source": [
    "#### Model training"
   ]
  },
  {
   "cell_type": "code",
   "execution_count": null,
   "metadata": {
    "collapsed": true
   },
   "outputs": [],
   "source": [
    "\"\"\"Parameters setting\"\"\"\n",
    "EPOCHS = 45\n",
    "BATCH_SIZE = 128\n",
    "LEARNING_RATE = 0.0001\n",
    "\n",
    "'''Training and save'''\n",
    "\n",
    "keep_prob = tf.placeholder(tf.float32)\n",
    "# x is a placeholder for a batch of input images. y is a placeholder for a batch of output labels.\n",
    "x = tf.placeholder(tf.float32, (None, 32, 32, 1))\n",
    "y = tf.placeholder(tf.int32, (None))\n",
    "# convert to 1 hot-coded data\n",
    "one_hot_y = tf.one_hot(y, 43)\n",
    "\n",
    "logits = Lenet_5_model(x)\n",
    "\n",
    "cross_entropy = tf.nn.softmax_cross_entropy_with_logits(labels=one_hot_y, logits=logits)\n",
    "loss_operation = tf.reduce_mean(cross_entropy)\n",
    "optimizer = tf.train.AdamOptimizer(learning_rate = LEARNING_RATE)\n",
    "training_operation = optimizer.minimize(loss_operation)\n",
    "\n",
    "correct_prediction = tf.equal(tf.argmax(logits, 1), tf.argmax(one_hot_y, 1))\n",
    "accuracy_operation = tf.reduce_mean(tf.cast(correct_prediction, tf.float32))\n",
    "\n",
    "saver = tf.train.Saver()\n",
    "\n",
    "train_loss_history = []\n",
    "valid_loss_history = []\n",
    "\n",
    "#Start running tensor flow\n",
    "with tf.Session() as sess:\n",
    "    sess.run(tf.global_variables_initializer())\n",
    "    num_examples = len(X_train_final)\n",
    "\n",
    "    print(\"Training...\")\n",
    "    for i in range(EPOCHS):\n",
    "        X_train, y_train = shuffle(X_train_final, y_train_original)\n",
    "        for offset in range(0, num_examples, BATCH_SIZE):\n",
    "            end = offset + BATCH_SIZE\n",
    "            batch_x, batch_y = X_train[offset:end], y_train[offset:end]\n",
    "            sess.run(training_operation, feed_dict={x: batch_x, y: batch_y, keep_prob: 0.5})\n",
    "\n",
    "        valid_loss, valid_accuracy = evaluate(X_valid_final, y_valid_original, 1.0)\n",
    "        valid_loss_history.append(valid_loss)\n",
    "\n",
    "        train_loss, train_accuracy = evaluate(X_train_final, y_train_original, 1.0)\n",
    "        train_loss_history.append(train_loss)\n",
    "\n",
    "        print(\"EPOCH {} ...\".format(i + 1))\n",
    "        print(\"Training Accuracy = {:.3f}\".format(train_accuracy))\n",
    "        print(\"Validation Accuracy = {:.3f}\".format(valid_accuracy))\n",
    "\n",
    "        print(\"Training Loss = {:.3f}\".format(train_loss))\n",
    "        print(\"Validation Loss = {:.3f}\".format(valid_loss))\n",
    "\n",
    "\n",
    "    saver.save(sess, '../../../lenet')\n",
    "    print(\"Model saved\")\n",
    "    loss_plot = plt.subplot(2,1,1)\n",
    "    loss_plot.set_title('Loss')\n",
    "    loss_plot.plot(train_loss_history, 'r', label='Training Loss')\n",
    "    loss_plot.plot(valid_loss_history, 'b', label='Validation Loss')\n",
    "    loss_plot.set_xlim([0, EPOCHS])\n",
    "    loss_plot.legend(loc=4)"
   ]
  },
  {
   "cell_type": "markdown",
   "metadata": {},
   "source": [
    "#### Model evaluation"
   ]
  },
  {
   "cell_type": "code",
   "execution_count": null,
   "metadata": {
    "collapsed": true
   },
   "outputs": [],
   "source": [
    "with tf.Session() as sess:\n",
    "    saver = tf.train.import_meta_graph('../../../lenet.meta')\n",
    "    saver.restore(sess, tf.train.latest_checkpoint('../../../lenet'))\n",
    "    test_loss, test_accuracy = evaluate(X_test_original, y_test_original, 1.0)\n",
    "    print(\"Test Accuracy = {:.3f}\".format(test_accuracy))"
   ]
  },
  {
   "cell_type": "markdown",
   "metadata": {},
   "source": [
    "---\n",
    "### Test a Model on New Images\n",
    "\n",
    "To give more insight into how the model is working, we will test pictures of German traffic signs taken from the web and use the  model to predict the traffic sign type. The file `../signnames.csv` contains mappings from the class id (integer) to the actual sign name."
   ]
  },
  {
   "cell_type": "markdown",
   "metadata": {},
   "source": [
    "#### Load and Output the Images"
   ]
  },
  {
   "cell_type": "code",
   "execution_count": null,
   "metadata": {
    "collapsed": true
   },
   "outputs": [],
   "source": [
    "TEST_IMAGES  = '../test_images'\n",
    "fig, axes = plt.subplots(1, 5, figsize=(13, 6))\n",
    "fig.subplots_adjust(left=None, right=None, hspace = .02, wspace=0.1)\n",
    "sample_list = []\n",
    "for i, img in enumerate(glob.glob(TEST_IMAGES + '/*.jpg')):\n",
    "    img = cv2.imread(img)\n",
    "    if i<=4:\n",
    "        sample_list.append(img)\n",
    "        axes[i].axis('off')\n",
    "        axes[i].imshow(img)        "
   ]
  },
  {
   "cell_type": "markdown",
   "metadata": {},
   "source": [
    "#### Analyze Performance of 5 test images"
   ]
  },
  {
   "cell_type": "code",
   "execution_count": null,
   "metadata": {
    "collapsed": true
   },
   "outputs": [],
   "source": [
    "### Calculate the accuracy for these 5 new images. \n",
    "### For example, if the model predicted 1 out of 5 signs correctly, it's 20% accurate on these new images.\n",
    "image_labels = [14, 1, 11, 3, 25]\n",
    "\n",
    "with tf.Session() as sess:\n",
    "    saver = tf.train.import_meta_graph('../../../lenet.meta')\n",
    "    saver.restore(sess, tf.train.latest_checkpoint('../../../lenet'))\n",
    "    loss, accuracy = evaluate(sample_list, image_labels, 1.0)\n",
    "    print(\"Test Accuracy = {:.3f}\".format(accuracy))"
   ]
  },
  {
   "cell_type": "markdown",
   "metadata": {},
   "source": [
    "#### Output Top 5 Softmax Probabilities For Each Image Found on the Web"
   ]
  },
  {
   "cell_type": "markdown",
   "metadata": {},
   "source": [
    "For each of the new images, print out the model's softmax probabilities to show the **certainty** of the model's predictions (limit the output to the top 5 probabilities for each image). [`tf.nn.top_k`](https://www.tensorflow.org/versions/r0.12/api_docs/python/nn.html#top_k) could prove helpful here. \n",
    "\n",
    "The example below demonstrates how tf.nn.top_k can be used to find the top k predictions for each image.\n",
    "\n",
    "`tf.nn.top_k` will return the values and indices (class ids) of the top k predictions. So if k=3, for each sign, it'll return the 3 largest probabilities (out of a possible 43) and the correspoding class ids.\n",
    "\n",
    "Take this numpy array as an example. The values in the array represent predictions. The array contains softmax probabilities for five candidate images with six possible classes. `tf.nn.top_k` is used to choose the three classes with the highest probability:\n",
    "\n",
    "```\n",
    "# (5, 6) array\n",
    "a = np.array([[ 0.24879643,  0.07032244,  0.12641572,  0.34763842,  0.07893497,\n",
    "         0.12789202],\n",
    "       [ 0.28086119,  0.27569815,  0.08594638,  0.0178669 ,  0.18063401,\n",
    "         0.15899337],\n",
    "       [ 0.26076848,  0.23664738,  0.08020603,  0.07001922,  0.1134371 ,\n",
    "         0.23892179],\n",
    "       [ 0.11943333,  0.29198961,  0.02605103,  0.26234032,  0.1351348 ,\n",
    "         0.16505091],\n",
    "       [ 0.09561176,  0.34396535,  0.0643941 ,  0.16240774,  0.24206137,\n",
    "         0.09155967]])\n",
    "```\n",
    "\n",
    "Running it through `sess.run(tf.nn.top_k(tf.constant(a), k=3))` produces:\n",
    "\n",
    "```\n",
    "TopKV2(values=array([[ 0.34763842,  0.24879643,  0.12789202],\n",
    "       [ 0.28086119,  0.27569815,  0.18063401],\n",
    "       [ 0.26076848,  0.23892179,  0.23664738],\n",
    "       [ 0.29198961,  0.26234032,  0.16505091],\n",
    "       [ 0.34396535,  0.24206137,  0.16240774]]), indices=array([[3, 0, 5],\n",
    "       [0, 1, 4],\n",
    "       [0, 5, 1],\n",
    "       [1, 3, 5],\n",
    "       [1, 4, 3]], dtype=int32))\n",
    "```\n",
    "\n",
    "Looking just at the first row we get `[ 0.34763842,  0.24879643,  0.12789202]`, you can confirm these are the 3 largest probabilities in `a`. You'll also notice `[3, 0, 5]` are the corresponding indices."
   ]
  },
  {
   "cell_type": "code",
   "execution_count": null,
   "metadata": {
    "collapsed": true
   },
   "outputs": [],
   "source": [
    "### Print out the top five softmax probabilities for the predictions on the German traffic sign images found on the web. \n",
    "### Feel free to use as many code cells as needed."
   ]
  },
  {
   "cell_type": "markdown",
   "metadata": {},
   "source": [
    "---\n",
    "\n",
    "### Step 4 (Optional): Visualize the Neural Network's State with Test Images\n",
    "\n",
    " This Section is not required to complete but acts as an additional excersise for understaning the output of a neural network's weights. While neural networks can be a great learning device they are often referred to as a black box. We can understand what the weights of a neural network look like better by plotting their feature maps. After successfully training your neural network you can see what it's feature maps look like by plotting the output of the network's weight layers in response to a test stimuli image. From these plotted feature maps, it's possible to see what characteristics of an image the network finds interesting. For a sign, maybe the inner network feature maps react with high activation to the sign's boundary outline or to the contrast in the sign's painted symbol.\n",
    "\n",
    " Provided for you below is the function code that allows you to get the visualization output of any tensorflow weight layer you want. The inputs to the function should be a stimuli image, one used during training or a new one you provided, and then the tensorflow variable name that represents the layer's state during the training process, for instance if you wanted to see what the [LeNet lab's](https://classroom.udacity.com/nanodegrees/nd013/parts/fbf77062-5703-404e-b60c-95b78b2f3f9e/modules/6df7ae49-c61c-4bb2-a23e-6527e69209ec/lessons/601ae704-1035-4287-8b11-e2c2716217ad/concepts/d4aca031-508f-4e0b-b493-e7b706120f81) feature maps looked like for it's second convolutional layer you could enter conv2 as the tf_activation variable.\n",
    "\n",
    "For an example of what feature map outputs look like, check out NVIDIA's results in their paper [End-to-End Deep Learning for Self-Driving Cars](https://devblogs.nvidia.com/parallelforall/deep-learning-self-driving-cars/) in the section Visualization of internal CNN State. NVIDIA was able to show that their network's inner weights had high activations to road boundary lines by comparing feature maps from an image with a clear path to one without. Try experimenting with a similar test to show that your trained network's weights are looking for interesting features, whether it's looking at differences in feature maps from images with or without a sign, or even what feature maps look like in a trained network vs a completely untrained one on the same sign image.\n",
    "\n",
    "<figure>\n",
    " <img src=\"visualize_cnn.png\" width=\"380\" alt=\"Combined Image\" />\n",
    " <figcaption>\n",
    " <p></p> \n",
    " <p style=\"text-align: center;\"> Your output should look something like this (above)</p> \n",
    " </figcaption>\n",
    "</figure>\n",
    " <p></p> \n"
   ]
  },
  {
   "cell_type": "code",
   "execution_count": null,
   "metadata": {
    "collapsed": true
   },
   "outputs": [],
   "source": [
    "### Visualize your network's feature maps here.\n",
    "### Feel free to use as many code cells as needed.\n",
    "\n",
    "# image_input: the test image being fed into the network to produce the feature maps\n",
    "# tf_activation: should be a tf variable name used during your training procedure that represents the calculated state of a specific weight layer\n",
    "# activation_min/max: can be used to view the activation contrast in more detail, by default matplot sets min and max to the actual min and max values of the output\n",
    "# plt_num: used to plot out multiple different weight feature map sets on the same block, just extend the plt number for each new feature map entry\n",
    "\n",
    "def outputFeatureMap(image_input, tf_activation, activation_min=-1, activation_max=-1 ,plt_num=1):\n",
    "    # Here make sure to preprocess your image_input in a way your network expects\n",
    "    # with size, normalization, ect if needed\n",
    "    # image_input =\n",
    "    # Note: x should be the same name as your network's tensorflow data placeholder variable\n",
    "    # If you get an error tf_activation is not defined it may be having trouble accessing the variable from inside a function\n",
    "    activation = tf_activation.eval(session=sess,feed_dict={x : image_input})\n",
    "    featuremaps = activation.shape[3]\n",
    "    plt.figure(plt_num, figsize=(15,15))\n",
    "    for featuremap in range(featuremaps):\n",
    "        plt.subplot(6,8, featuremap+1) # sets the number of feature maps to show on each row and column\n",
    "        plt.title('FeatureMap ' + str(featuremap)) # displays the feature map number\n",
    "        if activation_min != -1 & activation_max != -1:\n",
    "            plt.imshow(activation[0,:,:, featuremap], interpolation=\"nearest\", vmin =activation_min, vmax=activation_max, cmap=\"gray\")\n",
    "        elif activation_max != -1:\n",
    "            plt.imshow(activation[0,:,:, featuremap], interpolation=\"nearest\", vmax=activation_max, cmap=\"gray\")\n",
    "        elif activation_min !=-1:\n",
    "            plt.imshow(activation[0,:,:, featuremap], interpolation=\"nearest\", vmin=activation_min, cmap=\"gray\")\n",
    "        else:\n",
    "            plt.imshow(activation[0,:,:, featuremap], interpolation=\"nearest\", cmap=\"gray\")"
   ]
  },
  {
   "cell_type": "code",
   "execution_count": null,
   "metadata": {
    "collapsed": true
   },
   "outputs": [],
   "source": []
  }
 ],
 "metadata": {
  "anaconda-cloud": {},
  "kernelspec": {
   "display_name": "Python 3",
   "language": "python",
   "name": "python3"
  },
  "language_info": {
   "codemirror_mode": {
    "name": "ipython",
    "version": 3
   },
   "file_extension": ".py",
   "mimetype": "text/x-python",
   "name": "python",
   "nbconvert_exporter": "python",
   "pygments_lexer": "ipython3",
   "version": "3.5.2"
  },
  "widgets": {
   "state": {},
   "version": "1.1.2"
  }
 },
 "nbformat": 4,
 "nbformat_minor": 1
}
