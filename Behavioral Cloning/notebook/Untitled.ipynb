{
 "cells": [
  {
   "cell_type": "markdown",
   "metadata": {},
   "source": [
    "# Self-driving car Nanodegree - Term 1\n",
    "\n",
    "## Project 2: **Behavior Cloning** \n",
    "***\n",
    "In this project, we will use deep neural networks and convolutional neural networks to clone driving behavior. The model will output a steering angle to an autonomous vehicle. We will develop an algorithm pipeline to detect lane lines in images. In addition to implementing code, there is a brief [writeup](https://github.com/tranlyvu/autonomous-vehicle-projects/blob/master/Behavioral%20Cloning/writeup.md)"
   ]
  },
  {
   "cell_type": "markdown",
   "metadata": {},
   "source": [
    "#### Importing packages"
   ]
  },
  {
   "cell_type": "code",
   "execution_count": 1,
   "metadata": {},
   "outputs": [
    {
     "name": "stderr",
     "output_type": "stream",
     "text": [
      "Using TensorFlow backend.\n"
     ]
    }
   ],
   "source": [
    "import csv\n",
    "from keras.models import Sequential\n",
    "from keras.layers import Flatten, Dense, Convolution2D, Cropping2D,Lambda\n",
    "import numpy as np\n",
    "import cv2\n",
    "import matplotlib.pyplot as plt\n",
    "from sklearn.model_selection import train_test_split\n",
    "import sklearn\n"
   ]
  },
  {
   "cell_type": "markdown",
   "metadata": {},
   "source": [
    "#### Loading the data"
   ]
  },
  {
   "cell_type": "code",
   "execution_count": 2,
   "metadata": {},
   "outputs": [],
   "source": [
    "'''Read data'''\n",
    "rows = []\n",
    "with open('../../../data/driving_log.csv') as csvfile:\n",
    "    reader = csv.reader(csvfile)\n",
    "    for row in reader:\n",
    "        rows.append(row)\n",
    "\n",
    "        \n",
    "images = []\n",
    "measurements = []\n",
    "for line in rows[1:]:\n",
    "    source_path = line[0]\n",
    "    filename = source_path.split('/')[-1]\n",
    "    current_path = '../../../data/IMG/' + filename\n",
    "    image = cv2.imread(current_path)\n",
    "    images.append(image)\n",
    "    measurement = float(line[3])\n",
    "    measurements.append(measurement)"
   ]
  },
  {
   "cell_type": "markdown",
   "metadata": {},
   "source": [
    "### First attempt"
   ]
  },
  {
   "cell_type": "markdown",
   "metadata": {},
   "source": [
    "#### Pre-processing data \n",
    "\n",
    "    a. Data augmentation: Flipping images\n",
    "    b. Normalization\n",
    "    c. Mean centering\n"
   ]
  },
  {
   "cell_type": "code",
   "execution_count": 3,
   "metadata": {},
   "outputs": [],
   "source": [
    "augmented_images, augmented_measurements = [], []\n",
    "for image, measurement in zip(images, measurements):\n",
    "    image_flipped = np.fliplr(image)\n",
    "    measurement_flipped = measurement * (-1)\n",
    "    augmented_images.append(image)\n",
    "    augmented_images.append(image_flipped)\n",
    "    augmented_measurements.append(measurement)\n",
    "    augmented_measurements.append(measurement_flipped)\n",
    "\n",
    "X_train = np.array(augmented_images)\n",
    "y_train = np.array(augmented_measurements)\n",
    "\n",
    "model = Sequential()\n",
    "#The cameras in the simulator capture 160 pixel by 320 pixel images., after cropping, it is 90x320\n",
    "model.add(Cropping2D(cropping = ((50,20), (0,0)),input_shape=(160, 320, 3)))\n",
    "model.add(Lambda(lambda x: x / 255.0 - 0.5, input_shape=(90, 320, 3)))\n"
   ]
  },
  {
   "cell_type": "markdown",
   "metadata": {},
   "source": [
    "#### Defining model artchitecture\n",
    "\n",
    "In first attempt, I used 9-layers network from [end to end learning for self-driving cars](https://arxiv.org/pdf/1604.07316.pdf) by NVIDIA"
   ]
  },
  {
   "cell_type": "code",
   "execution_count": 4,
   "metadata": {
    "collapsed": true
   },
   "outputs": [],
   "source": [
    "model.add(Convolution2D(24, 5, 5, subsample=(2,2), activation='relu'))\n",
    "model.add(Convolution2D(36, 5, 5, subsample=(2,2), activation='relu'))\n",
    "model.add(Convolution2D(48, 5, 5, subsample=(2,2), activation='relu'))\n",
    "model.add(Convolution2D(64, 3, 3, activation='relu'))\n",
    "model.add(Convolution2D(64, 3, 3, activation='relu'))      \n",
    "model.add(Flatten())\n",
    "model.add(Dense(100))\n",
    "model.add(Dense(50))\n",
    "model.add(Dense(10))\n",
    "model.add(Dense(1))"
   ]
  },
  {
   "cell_type": "markdown",
   "metadata": {},
   "source": [
    "#### Training"
   ]
  },
  {
   "cell_type": "code",
   "execution_count": 5,
   "metadata": {},
   "outputs": [
    {
     "name": "stdout",
     "output_type": "stream",
     "text": [
      "Epoch 1/50\n",
      "6428/6428 [==============================] - 19s - loss: 0.0116 - val_loss: 0.0113\n",
      "Epoch 2/50\n",
      "6428/6428 [==============================] - 17s - loss: 0.0098 - val_loss: 0.0102\n",
      "Epoch 3/50\n",
      "6428/6428 [==============================] - 17s - loss: 0.0093 - val_loss: 0.0101\n",
      "Epoch 4/50\n",
      "6428/6428 [==============================] - 17s - loss: 0.0089 - val_loss: 0.0101\n",
      "Epoch 5/50\n",
      "6428/6428 [==============================] - 17s - loss: 0.0086 - val_loss: 0.0097\n",
      "Epoch 6/50\n",
      "6428/6428 [==============================] - 17s - loss: 0.0082 - val_loss: 0.0098\n",
      "Epoch 7/50\n",
      "6428/6428 [==============================] - 17s - loss: 0.0079 - val_loss: 0.0100\n",
      "Epoch 8/50\n",
      "6428/6428 [==============================] - 17s - loss: 0.0077 - val_loss: 0.0101\n",
      "Epoch 9/50\n",
      "6428/6428 [==============================] - 17s - loss: 0.0072 - val_loss: 0.0101\n",
      "Epoch 10/50\n",
      "6428/6428 [==============================] - 17s - loss: 0.0070 - val_loss: 0.0101\n",
      "Epoch 11/50\n",
      "6428/6428 [==============================] - 17s - loss: 0.0066 - val_loss: 0.0102\n",
      "Epoch 12/50\n",
      "6428/6428 [==============================] - 17s - loss: 0.0062 - val_loss: 0.0100\n",
      "Epoch 13/50\n",
      "6428/6428 [==============================] - 17s - loss: 0.0060 - val_loss: 0.0102\n",
      "Epoch 14/50\n",
      "6428/6428 [==============================] - 17s - loss: 0.0057 - val_loss: 0.0101\n",
      "Epoch 15/50\n",
      "6428/6428 [==============================] - 17s - loss: 0.0051 - val_loss: 0.0107\n",
      "Epoch 16/50\n",
      "6428/6428 [==============================] - 17s - loss: 0.0045 - val_loss: 0.0118\n",
      "Epoch 17/50\n",
      "6428/6428 [==============================] - 17s - loss: 0.0041 - val_loss: 0.0113\n",
      "Epoch 18/50\n",
      "6428/6428 [==============================] - 17s - loss: 0.0040 - val_loss: 0.0111\n",
      "Epoch 19/50\n",
      "6428/6428 [==============================] - 17s - loss: 0.0038 - val_loss: 0.0107\n",
      "Epoch 20/50\n",
      "6428/6428 [==============================] - 17s - loss: 0.0032 - val_loss: 0.0108\n",
      "Epoch 21/50\n",
      "6428/6428 [==============================] - 17s - loss: 0.0028 - val_loss: 0.0116\n",
      "Epoch 22/50\n",
      "6428/6428 [==============================] - 17s - loss: 0.0029 - val_loss: 0.0111\n",
      "Epoch 23/50\n",
      "6428/6428 [==============================] - 17s - loss: 0.0026 - val_loss: 0.0111\n",
      "Epoch 24/50\n",
      "6428/6428 [==============================] - 17s - loss: 0.0023 - val_loss: 0.0109\n",
      "Epoch 25/50\n",
      "6428/6428 [==============================] - 17s - loss: 0.0022 - val_loss: 0.0120\n",
      "Epoch 26/50\n",
      "6428/6428 [==============================] - 17s - loss: 0.0022 - val_loss: 0.0108\n",
      "Epoch 27/50\n",
      "6428/6428 [==============================] - 17s - loss: 0.0022 - val_loss: 0.0124\n",
      "Epoch 28/50\n",
      "6428/6428 [==============================] - 17s - loss: 0.0022 - val_loss: 0.0115\n",
      "Epoch 29/50\n",
      "6428/6428 [==============================] - 17s - loss: 0.0023 - val_loss: 0.0107\n",
      "Epoch 30/50\n",
      "6428/6428 [==============================] - 17s - loss: 0.0021 - val_loss: 0.0113\n",
      "Epoch 31/50\n",
      "6428/6428 [==============================] - 17s - loss: 0.0020 - val_loss: 0.0105\n",
      "Epoch 32/50\n",
      "6428/6428 [==============================] - 17s - loss: 0.0024 - val_loss: 0.0107\n",
      "Epoch 33/50\n",
      "6428/6428 [==============================] - 17s - loss: 0.0025 - val_loss: 0.0110\n",
      "Epoch 34/50\n",
      "6428/6428 [==============================] - 17s - loss: 0.0022 - val_loss: 0.0104\n",
      "Epoch 35/50\n",
      "6428/6428 [==============================] - 17s - loss: 0.0016 - val_loss: 0.0115\n",
      "Epoch 36/50\n",
      "6428/6428 [==============================] - 17s - loss: 0.0014 - val_loss: 0.0109\n",
      "Epoch 37/50\n",
      "6428/6428 [==============================] - 17s - loss: 0.0017 - val_loss: 0.0107\n",
      "Epoch 38/50\n",
      "6428/6428 [==============================] - 17s - loss: 0.0018 - val_loss: 0.0112\n",
      "Epoch 39/50\n",
      "6428/6428 [==============================] - 17s - loss: 0.0014 - val_loss: 0.0110\n",
      "Epoch 40/50\n",
      "6428/6428 [==============================] - 17s - loss: 0.0012 - val_loss: 0.0123\n",
      "Epoch 41/50\n",
      "6428/6428 [==============================] - 17s - loss: 0.0014 - val_loss: 0.0110\n",
      "Epoch 42/50\n",
      "6428/6428 [==============================] - 17s - loss: 0.0013 - val_loss: 0.0105\n",
      "Epoch 43/50\n",
      "6428/6428 [==============================] - 17s - loss: 0.0013 - val_loss: 0.0104\n",
      "Epoch 44/50\n",
      "6428/6428 [==============================] - 17s - loss: 0.0014 - val_loss: 0.0109\n",
      "Epoch 45/50\n",
      "6428/6428 [==============================] - 17s - loss: 0.0014 - val_loss: 0.0119\n",
      "Epoch 46/50\n",
      "6428/6428 [==============================] - 17s - loss: 0.0014 - val_loss: 0.0106\n",
      "Epoch 47/50\n",
      "6428/6428 [==============================] - 17s - loss: 0.0017 - val_loss: 0.0111\n",
      "Epoch 48/50\n",
      "6428/6428 [==============================] - 17s - loss: 0.0016 - val_loss: 0.0101\n",
      "Epoch 49/50\n",
      "6428/6428 [==============================] - 17s - loss: 0.0012 - val_loss: 0.0105\n",
      "Epoch 50/50\n",
      "6428/6428 [==============================] - 17s - loss: 0.0011 - val_loss: 0.0106\n"
     ]
    }
   ],
   "source": [
    "'''Training: using MSE for regression'''\n",
    "model.compile(loss='mse', optimizer='adam')\n",
    "def generator(samples, batch_size = 32):\n",
    "    num_samples = len(samples)\n",
    "    while 1:\n",
    "        sklearn.utils.shuffle(samples)\n",
    "        for offset in range(0, num_samples, batch_size):\n",
    "            batch_samples = samples[offset:offset + batch_size]\n",
    "            images = []\n",
    "            angles = []\n",
    "            for batch_sample in batch_samples:\n",
    "                name = '../../../data/IMG/' + batch_sample[0].split('/')[-1]\n",
    "                center_image = cv2.imread(name)\n",
    "                center_angle = float(batch_sample[3])\n",
    "                images.append(center_image)\n",
    "                angles.append(center_angle)\n",
    "\n",
    "            # trim image to only see section with road\n",
    "            x_train = np.array(images)\n",
    "            y_train = np.array(angles)\n",
    "            yield sklearn.utils.shuffle(x_train, y_train)\n",
    "            \n",
    "train_samples, validation_samples = train_test_split(rows[1:], test_size = 0.2)\n",
    "\n",
    "train_generator = generator(train_samples, batch_size = 32)\n",
    "validation_generator = generator(validation_samples, batch_size = 32)\n",
    "\n",
    "history_object = model.fit_generator(train_generator,\n",
    "                                    samples_per_epoch = len(train_samples),\n",
    "                                    validation_data = validation_generator,\n",
    "                                    nb_val_samples = len(validation_samples),\n",
    "                                    nb_epoch = 25)"
   ]
  },
  {
   "cell_type": "code",
   "execution_count": 6,
   "metadata": {},
   "outputs": [
    {
     "name": "stdout",
     "output_type": "stream",
     "text": [
      "dict_keys(['loss', 'val_loss'])\n"
     ]
    },
    {
     "data": {
      "image/png": "[encoded data removed]",
      "text/plain": [
       "<matplotlib.figure.Figure at 0x7f3c11525f98>"
      ]
     },
     "metadata": {},
     "output_type": "display_data"
    }
   ],
   "source": [
    "model.save('model.h5')\n",
    "print(history_object.history.keys())\n",
    "###plot the training and validation loss for each epoch\n",
    "plt.plot(history_object.history['loss'])\n",
    "plt.plot(history_object.history['val_loss'])\n",
    "plt.title('model mean squared error loss')\n",
    "plt.ylabel('mean squared error loss')\n",
    "plt.xlabel('epoch')\n",
    "plt.legend(['training set', 'validation set'], loc='upper right')\n",
    "plt.show()"
   ]
  },
  {
   "cell_type": "markdown",
   "metadata": {},
   "source": [
    "### Second attempt"
   ]
  },
  {
   "cell_type": "code",
   "execution_count": null,
   "metadata": {
    "collapsed": true
   },
   "outputs": [],
   "source": []
  }
 ],
 "metadata": {
  "kernelspec": {
   "display_name": "Python 3",
   "language": "python",
   "name": "python3"
  },
  "language_info": {
   "codemirror_mode": {
    "name": "ipython",
    "version": 3
   },
   "file_extension": ".py",
   "mimetype": "text/x-python",
   "name": "python",
   "nbconvert_exporter": "python",
   "pygments_lexer": "ipython3",
   "version": "3.5.2"
  },
  "widgets": {
   "state": {},
   "version": "1.1.2"
  }
 },
 "nbformat": 4,
 "nbformat_minor": 2
}
